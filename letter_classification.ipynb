{
 "cells": [
  {
   "cell_type": "code",
   "execution_count": 1,
   "metadata": {},
   "outputs": [
    {
     "name": "stderr",
     "output_type": "stream",
     "text": [
      "Using TensorFlow backend.\n"
     ]
    }
   ],
   "source": [
    "import pandas as pd\n",
    "import numpy as np\n",
    "from sklearn import preprocessing\n",
    "from matplotlib import pyplot as plt\n",
    "from matplotlib import animation, rc\n",
    "from IPython.display import HTML\n",
    "import random\n",
    "import json\n",
    "import keras\n",
    "from keras.models import Model, Sequential\n",
    "from keras.layers import Conv1D, MaxPooling1D, Flatten, Dense, Input, Dropout, GlobalAveragePooling1D, Reshape\n",
    "from sklearn.model_selection import train_test_split\n",
    "from sklearn.metrics import classification_report\n",
    "from imblearn.over_sampling import SMOTE"
   ]
  },
  {
   "cell_type": "code",
   "execution_count": 2,
   "metadata": {},
   "outputs": [],
   "source": [
    "with open(\"raw_data_marcelo_ab_14022019_1303.json\", 'r') as f:\n",
    "    raw_data = json.load(f)\n",
    "    Accx = raw_data['Accx']\n",
    "    Accy = raw_data['Accy']\n",
    "    Accz = raw_data['Accz']\n",
    "    Gyrx = raw_data['Gyrx']\n",
    "    Gyry = raw_data['Gyry']\n",
    "    Gyrz = raw_data['Gyrz']\n",
    "    labels = raw_data['labels']"
   ]
  },
  {
   "cell_type": "markdown",
   "metadata": {},
   "source": [
    "Checking normality."
   ]
  },
  {
   "cell_type": "code",
   "execution_count": 3,
   "metadata": {},
   "outputs": [
    {
     "name": "stdout",
     "output_type": "stream",
     "text": [
      "KstestResult(statistic=1.0, pvalue=0.0)\n",
      "KstestResult(statistic=0.9787234042553191, pvalue=0.0)\n",
      "KstestResult(statistic=1.0, pvalue=0.0)\n",
      "KstestResult(statistic=0.9775280898876404, pvalue=0.0)\n",
      "KstestResult(statistic=0.9871794871794872, pvalue=0.0)\n",
      "KstestResult(statistic=0.9777777777777777, pvalue=0.0)\n",
      "KstestResult(statistic=0.9868421052631579, pvalue=0.0)\n",
      "KstestResult(statistic=0.9818181818181818, pvalue=0.0)\n",
      "KstestResult(statistic=0.9873417721518988, pvalue=0.0)\n",
      "KstestResult(statistic=1.0, pvalue=0.0)\n",
      "KstestResult(statistic=0.9866666666666667, pvalue=0.0)\n",
      "KstestResult(statistic=0.9893617021276596, pvalue=0.0)\n",
      "KstestResult(statistic=0.9878048780487805, pvalue=0.0)\n",
      "KstestResult(statistic=0.9878048780487805, pvalue=0.0)\n",
      "KstestResult(statistic=1.0, pvalue=0.0)\n",
      "KstestResult(statistic=0.9893617021276596, pvalue=0.0)\n",
      "KstestResult(statistic=0.9864864864864865, pvalue=0.0)\n",
      "KstestResult(statistic=1.0, pvalue=0.0)\n",
      "KstestResult(statistic=1.0, pvalue=0.0)\n",
      "KstestResult(statistic=1.0, pvalue=0.0)\n",
      "KstestResult(statistic=0.9904761904761905, pvalue=0.0)\n",
      "KstestResult(statistic=0.9245283018867925, pvalue=0.0)\n",
      "KstestResult(statistic=0.9036144578313253, pvalue=0.0)\n",
      "KstestResult(statistic=1.0, pvalue=0.0)\n",
      "KstestResult(statistic=0.9487179487179487, pvalue=0.0)\n",
      "KstestResult(statistic=0.9868421052631579, pvalue=0.0)\n",
      "KstestResult(statistic=0.9558823529411765, pvalue=0.0)\n",
      "KstestResult(statistic=0.9701492537313433, pvalue=0.0)\n",
      "KstestResult(statistic=0.9418604651162791, pvalue=0.0)\n",
      "KstestResult(statistic=0.9705882352941176, pvalue=0.0)\n",
      "KstestResult(statistic=0.9428571428571428, pvalue=0.0)\n",
      "KstestResult(statistic=0.9857142857142858, pvalue=0.0)\n",
      "KstestResult(statistic=1.0, pvalue=0.0)\n",
      "KstestResult(statistic=1.0, pvalue=0.0)\n",
      "KstestResult(statistic=0.9775280898876404, pvalue=0.0)\n",
      "KstestResult(statistic=0.945054945054945, pvalue=0.0)\n",
      "KstestResult(statistic=0.9594594594594594, pvalue=0.0)\n",
      "KstestResult(statistic=0.9714285714285714, pvalue=0.0)\n",
      "KstestResult(statistic=0.9797979797979798, pvalue=0.0)\n",
      "KstestResult(statistic=0.956989247311828, pvalue=0.0)\n",
      "KstestResult(statistic=0.948051948051948, pvalue=0.0)\n",
      "KstestResult(statistic=0.9873417721518988, pvalue=0.0)\n",
      "KstestResult(statistic=0.8740157480314961, pvalue=0.0)\n",
      "KstestResult(statistic=1.0, pvalue=0.0)\n",
      "KstestResult(statistic=0.926829268292683, pvalue=0.0)\n",
      "KstestResult(statistic=0.9571428571428572, pvalue=0.0)\n",
      "KstestResult(statistic=0.9325842696629213, pvalue=0.0)\n",
      "KstestResult(statistic=0.9876543209876543, pvalue=0.0)\n",
      "KstestResult(statistic=0.9859154929577465, pvalue=0.0)\n",
      "KstestResult(statistic=0.9358974358974359, pvalue=0.0)\n",
      "KstestResult(statistic=0.9452054794520548, pvalue=0.0)\n",
      "KstestResult(statistic=0.9753086419753086, pvalue=0.0)\n",
      "KstestResult(statistic=0.9863013698630136, pvalue=0.0)\n",
      "KstestResult(statistic=0.956989247311828, pvalue=0.0)\n",
      "KstestResult(statistic=0.971830985915493, pvalue=0.0)\n",
      "KstestResult(statistic=0.9518072289156626, pvalue=0.0)\n",
      "KstestResult(statistic=0.958904109589041, pvalue=0.0)\n",
      "KstestResult(statistic=0.9401709401709395, pvalue=0.0)\n",
      "KstestResult(statistic=0.9213483146067416, pvalue=0.0)\n",
      "KstestResult(statistic=0.9651162790697675, pvalue=0.0)\n",
      "KstestResult(statistic=0.98, pvalue=0.0)\n",
      "KstestResult(statistic=0.9736842105263158, pvalue=0.0)\n",
      "KstestResult(statistic=0.9753086419753086, pvalue=0.0)\n",
      "KstestResult(statistic=0.967032967032967, pvalue=0.0)\n",
      "KstestResult(statistic=0.9791666666666666, pvalue=0.0)\n",
      "KstestResult(statistic=0.9864864864864865, pvalue=0.0)\n",
      "KstestResult(statistic=0.8961038961038961, pvalue=0.0)\n",
      "KstestResult(statistic=0.9518072289156626, pvalue=0.0)\n",
      "KstestResult(statistic=0.9726027397260274, pvalue=0.0)\n",
      "KstestResult(statistic=0.96875, pvalue=0.0)\n",
      "KstestResult(statistic=0.9841269841269841, pvalue=0.0)\n",
      "KstestResult(statistic=0.974025974025974, pvalue=0.0)\n",
      "KstestResult(statistic=0.9871794871794872, pvalue=0.0)\n",
      "KstestResult(statistic=0.9305555555555556, pvalue=0.0)\n",
      "KstestResult(statistic=0.9571428571428572, pvalue=0.0)\n",
      "KstestResult(statistic=0.9879518072289156, pvalue=0.0)\n",
      "KstestResult(statistic=0.9552238805970149, pvalue=0.0)\n",
      "KstestResult(statistic=0.9259259259259259, pvalue=0.0)\n",
      "KstestResult(statistic=0.9629629629629629, pvalue=0.0)\n",
      "KstestResult(statistic=0.945054945054945, pvalue=0.0)\n",
      "KstestResult(statistic=0.9857142857142858, pvalue=0.0)\n",
      "KstestResult(statistic=1.0, pvalue=0.0)\n",
      "KstestResult(statistic=0.9696969696969697, pvalue=0.0)\n",
      "KstestResult(statistic=0.9726027397260274, pvalue=0.0)\n",
      "KstestResult(statistic=0.9418604651162791, pvalue=0.0)\n",
      "KstestResult(statistic=0.9381443298969072, pvalue=0.0)\n",
      "KstestResult(statistic=0.9176470588235294, pvalue=0.0)\n",
      "KstestResult(statistic=0.8765432098765432, pvalue=0.0)\n",
      "KstestResult(statistic=0.9493670886075949, pvalue=0.0)\n",
      "KstestResult(statistic=0.9466666666666667, pvalue=0.0)\n",
      "KstestResult(statistic=0.9381443298969072, pvalue=0.0)\n",
      "KstestResult(statistic=0.96, pvalue=0.0)\n",
      "KstestResult(statistic=0.9305555555555556, pvalue=0.0)\n",
      "KstestResult(statistic=0.9710144927536232, pvalue=0.0)\n",
      "KstestResult(statistic=0.935064935064935, pvalue=0.0)\n",
      "KstestResult(statistic=0.9736842105263158, pvalue=0.0)\n",
      "KstestResult(statistic=0.9775280898876404, pvalue=0.0)\n",
      "KstestResult(statistic=0.9848484848484849, pvalue=0.0)\n",
      "KstestResult(statistic=0.975, pvalue=0.0)\n",
      "KstestResult(statistic=0.9885057471264368, pvalue=0.0)\n",
      "KstestResult(statistic=0.9428571428571428, pvalue=0.0)\n",
      "KstestResult(statistic=0.9753086419753086, pvalue=0.0)\n",
      "KstestResult(statistic=0.9402985074626866, pvalue=0.0)\n",
      "KstestResult(statistic=0.9436619718309859, pvalue=0.0)\n",
      "KstestResult(statistic=0.9734513274336283, pvalue=0.0)\n",
      "KstestResult(statistic=0.9452054794520548, pvalue=0.0)\n",
      "KstestResult(statistic=0.972972972972973, pvalue=0.0)\n",
      "KstestResult(statistic=0.9767441860465109, pvalue=0.0)\n",
      "KstestResult(statistic=0.96875, pvalue=0.0)\n",
      "KstestResult(statistic=0.9384615384615385, pvalue=0.0)\n",
      "KstestResult(statistic=0.9420289855072463, pvalue=0.0)\n",
      "KstestResult(statistic=0.9772727272727266, pvalue=0.0)\n",
      "KstestResult(statistic=0.958904109589041, pvalue=0.0)\n",
      "KstestResult(statistic=0.9512195121951219, pvalue=0.0)\n",
      "KstestResult(statistic=0.9871794871794872, pvalue=0.0)\n",
      "KstestResult(statistic=0.963855421686747, pvalue=0.0)\n",
      "KstestResult(statistic=0.9047619047619048, pvalue=0.0)\n",
      "KstestResult(statistic=0.9743589743589743, pvalue=0.0)\n",
      "KstestResult(statistic=0.9772727272727273, pvalue=0.0)\n",
      "KstestResult(statistic=0.9692307692307692, pvalue=0.0)\n",
      "KstestResult(statistic=0.9438202247191011, pvalue=0.0)\n",
      "KstestResult(statistic=0.9393939393939394, pvalue=0.0)\n",
      "KstestResult(statistic=0.9866666666666667, pvalue=0.0)\n",
      "KstestResult(statistic=0.9178082191780822, pvalue=0.0)\n",
      "KstestResult(statistic=0.8990825688073395, pvalue=0.0)\n",
      "KstestResult(statistic=0.9466666666666667, pvalue=0.0)\n",
      "KstestResult(statistic=0.9493670886075949, pvalue=0.0)\n",
      "KstestResult(statistic=1.0, pvalue=0.0)\n",
      "KstestResult(statistic=0.9855072463768116, pvalue=0.0)\n",
      "KstestResult(statistic=0.9625, pvalue=0.0)\n",
      "KstestResult(statistic=0.9882352941176471, pvalue=0.0)\n",
      "KstestResult(statistic=0.9682539682539683, pvalue=0.0)\n",
      "KstestResult(statistic=0.9594594594594594, pvalue=0.0)\n",
      "KstestResult(statistic=0.9701492537313433, pvalue=0.0)\n",
      "KstestResult(statistic=1.0, pvalue=0.0)\n",
      "KstestResult(statistic=1.0, pvalue=0.0)\n",
      "KstestResult(statistic=0.9726027397260274, pvalue=0.0)\n",
      "KstestResult(statistic=0.9506172839506173, pvalue=0.0)\n",
      "KstestResult(statistic=0.9875, pvalue=0.0)\n",
      "KstestResult(statistic=1.0, pvalue=0.0)\n",
      "KstestResult(statistic=0.974025974025974, pvalue=0.0)\n",
      "KstestResult(statistic=1.0, pvalue=0.0)\n",
      "KstestResult(statistic=0.9875, pvalue=0.0)\n",
      "KstestResult(statistic=1.0, pvalue=0.0)\n",
      "KstestResult(statistic=0.9714285714285714, pvalue=0.0)\n",
      "KstestResult(statistic=0.9714285714285714, pvalue=0.0)\n",
      "KstestResult(statistic=0.9615384615384616, pvalue=0.0)\n",
      "KstestResult(statistic=0.9887640449438202, pvalue=0.0)\n",
      "KstestResult(statistic=0.987012987012987, pvalue=0.0)\n",
      "KstestResult(statistic=0.9873417721518988, pvalue=0.0)\n",
      "KstestResult(statistic=0.971830985915493, pvalue=0.0)\n",
      "KstestResult(statistic=0.9782608695652174, pvalue=0.0)\n",
      "KstestResult(statistic=0.9875, pvalue=0.0)\n",
      "KstestResult(statistic=0.975609756097561, pvalue=0.0)\n",
      "KstestResult(statistic=0.9848484848484849, pvalue=0.0)\n",
      "KstestResult(statistic=1.0, pvalue=0.0)\n",
      "KstestResult(statistic=0.987012987012987, pvalue=0.0)\n",
      "KstestResult(statistic=1.0, pvalue=0.0)\n",
      "KstestResult(statistic=0.9866666666666667, pvalue=0.0)\n",
      "KstestResult(statistic=1.0, pvalue=0.0)\n",
      "KstestResult(statistic=1.0, pvalue=0.0)\n",
      "KstestResult(statistic=0.975609756097561, pvalue=0.0)\n",
      "KstestResult(statistic=1.0, pvalue=0.0)\n",
      "KstestResult(statistic=0.9859154929577465, pvalue=0.0)\n",
      "KstestResult(statistic=0.9875, pvalue=0.0)\n",
      "KstestResult(statistic=0.9558823529411765, pvalue=0.0)\n",
      "KstestResult(statistic=0.9857142857142858, pvalue=0.0)\n",
      "KstestResult(statistic=1.0, pvalue=0.0)\n",
      "KstestResult(statistic=0.9726027397260274, pvalue=0.0)\n",
      "KstestResult(statistic=0.9705882352941176, pvalue=0.0)\n",
      "KstestResult(statistic=1.0, pvalue=0.0)\n",
      "KstestResult(statistic=1.0, pvalue=0.0)\n",
      "KstestResult(statistic=0.979381443298969, pvalue=0.0)\n",
      "KstestResult(statistic=0.9733333333333334, pvalue=0.0)\n",
      "KstestResult(statistic=0.96, pvalue=0.0)\n",
      "KstestResult(statistic=0.9690721649484536, pvalue=0.0)\n",
      "KstestResult(statistic=1.0, pvalue=0.0)\n",
      "KstestResult(statistic=0.9651162790697675, pvalue=0.0)\n",
      "KstestResult(statistic=0.96, pvalue=0.0)\n",
      "KstestResult(statistic=0.9857142857142858, pvalue=0.0)\n",
      "KstestResult(statistic=0.9772727272727273, pvalue=0.0)\n",
      "KstestResult(statistic=0.9693877551020408, pvalue=0.0)\n",
      "KstestResult(statistic=0.9726027397260274, pvalue=0.0)\n",
      "KstestResult(statistic=1.0, pvalue=0.0)\n",
      "KstestResult(statistic=0.9880952380952381, pvalue=0.0)\n",
      "KstestResult(statistic=1.0, pvalue=0.0)\n",
      "KstestResult(statistic=0.9902912621359223, pvalue=0.0)\n",
      "KstestResult(statistic=0.9878048780487805, pvalue=0.0)\n",
      "KstestResult(statistic=0.9565217391304348, pvalue=0.0)\n",
      "KstestResult(statistic=0.9809523809523809, pvalue=0.0)\n",
      "KstestResult(statistic=0.9615384615384616, pvalue=0.0)\n",
      "KstestResult(statistic=1.0, pvalue=0.0)\n",
      "KstestResult(statistic=1.0, pvalue=0.0)\n",
      "KstestResult(statistic=0.9894736842105263, pvalue=0.0)\n",
      "KstestResult(statistic=0.9736842105263158, pvalue=0.0)\n",
      "KstestResult(statistic=1.0, pvalue=0.0)\n",
      "KstestResult(statistic=1.0, pvalue=0.0)\n",
      "KstestResult(statistic=1.0, pvalue=0.0)\n"
     ]
    }
   ],
   "source": [
    "from scipy import stats\n",
    "for i in range(0, len(Accx)):\n",
    "    print(stats.kstest(Accx[i], 'norm'))"
   ]
  },
  {
   "cell_type": "markdown",
   "metadata": {},
   "source": [
    "Normalizing to N(0,1)"
   ]
  },
  {
   "cell_type": "code",
   "execution_count": 4,
   "metadata": {},
   "outputs": [],
   "source": [
    "Accx_calib = []\n",
    "Accy_calib = []\n",
    "Accz_calib = []\n",
    "Gyrx_calib = []\n",
    "Gyry_calib = []\n",
    "Gyrz_calib = []\n",
    "for i in range(0, len(Accx)):\n",
    "    Accx_calib.append((Accx[i]-np.mean(Accx[i]))/np.std(Accx[i]))\n",
    "    Accy_calib.append((Accy[i]-np.mean(Accy[i]))/np.std(Accy[i]))\n",
    "    Accz_calib.append((Accz[i]-np.mean(Accz[i]))/np.std(Accz[i]))\n",
    "    Gyrx_calib.append((Gyrx[i]-np.mean(Gyrx[i]))/np.std(Gyrx[i]))\n",
    "    Gyry_calib.append((Gyry[i]-np.mean(Gyry[i]))/np.std(Gyry[i]))\n",
    "    Gyrz_calib.append((Gyrz[i]-np.mean(Gyrz[i]))/np.std(Gyrz[i]))"
   ]
  },
  {
   "cell_type": "code",
   "execution_count": 5,
   "metadata": {},
   "outputs": [],
   "source": [
    "longest_signal = 0\n",
    "for signal in Accx_calib:\n",
    "    if len(signal) > longest_signal:\n",
    "        longest_signal = len(signal)"
   ]
  },
  {
   "cell_type": "markdown",
   "metadata": {},
   "source": [
    "Increasing signals length to match the longest length."
   ]
  },
  {
   "cell_type": "code",
   "execution_count": 6,
   "metadata": {},
   "outputs": [],
   "source": [
    "processed_data = []\n",
    "for i in range(0, len(Accx_calib)):\n",
    "    len_current_signal = len(Accx_calib[i])\n",
    "    for j in range(0, longest_signal - len_current_signal):\n",
    "        rand_index = random.randint(1, len(Accx_calib[i])-1)\n",
    "        Accx_calib[i] = np.insert(Accx_calib[i], rand_index, Accx_calib[i][rand_index])\n",
    "        Accy_calib[i] = np.insert(Accy_calib[i], rand_index, Accy_calib[i][rand_index])\n",
    "        Accz_calib[i] = np.insert(Accz_calib[i], rand_index, Accz_calib[i][rand_index])\n",
    "        Gyrx_calib[i] = np.insert(Gyrx_calib[i], rand_index, Gyrx_calib[i][rand_index])\n",
    "        Gyry_calib[i] = np.insert(Gyry_calib[i], rand_index, Gyry_calib[i][rand_index])\n",
    "        Gyrz_calib[i] = np.insert(Gyrz_calib[i], rand_index, Gyrz_calib[i][rand_index])\n",
    "    processed_data.append(np.concatenate([Accx_calib[i], Accy_calib[i], Accz_calib[i],\n",
    "                                          Gyrx_calib[i], Gyry_calib[i], Gyrz_calib[i]]))"
   ]
  },
  {
   "cell_type": "code",
   "execution_count": 7,
   "metadata": {},
   "outputs": [],
   "source": [
    "x = np.array(processed_data)\n",
    "y = np.array(labels)\n",
    "X_train, X_test, y_train, y_test = train_test_split(x, y, test_size=0.2)"
   ]
  },
  {
   "cell_type": "markdown",
   "metadata": {},
   "source": [
    "Balancing training base."
   ]
  },
  {
   "cell_type": "code",
   "execution_count": 8,
   "metadata": {},
   "outputs": [],
   "source": [
    "sm = SMOTE()\n",
    "X_train, y_train = sm.fit_sample(X_train, y_train)"
   ]
  },
  {
   "cell_type": "code",
   "execution_count": 9,
   "metadata": {},
   "outputs": [
    {
     "data": {
      "text/plain": [
       "B    101\n",
       "A    101\n",
       "dtype: int64"
      ]
     },
     "execution_count": 9,
     "metadata": {},
     "output_type": "execute_result"
    }
   ],
   "source": [
    "pd.Series(y_train).value_counts()"
   ]
  },
  {
   "cell_type": "code",
   "execution_count": 10,
   "metadata": {},
   "outputs": [],
   "source": [
    "letters = np.unique(y_train).tolist()"
   ]
  },
  {
   "cell_type": "code",
   "execution_count": 11,
   "metadata": {},
   "outputs": [],
   "source": [
    "y_train_encoded = []\n",
    "for value in y_train:\n",
    "    encoded_target = np.zeros(len(letters))\n",
    "    encoded_target[letters.index(value)] = 1\n",
    "    y_train_encoded.append(encoded_target)\n",
    "y_train_encoded = np.array(y_train_encoded)"
   ]
  },
  {
   "cell_type": "code",
   "execution_count": 12,
   "metadata": {},
   "outputs": [],
   "source": [
    "y_test_encoded = []\n",
    "for value in y_test:\n",
    "    encoded_target = np.zeros(len(letters))\n",
    "    encoded_target[letters.index(value)] = 1\n",
    "    y_test_encoded.append(encoded_target)\n",
    "y_test_encoded = np.array(y_test_encoded)"
   ]
  },
  {
   "cell_type": "code",
   "execution_count": 13,
   "metadata": {},
   "outputs": [
    {
     "data": {
      "text/plain": [
       "(202, 2)"
      ]
     },
     "execution_count": 13,
     "metadata": {},
     "output_type": "execute_result"
    }
   ],
   "source": [
    "y_train_encoded.shape"
   ]
  },
  {
   "cell_type": "code",
   "execution_count": 14,
   "metadata": {},
   "outputs": [
    {
     "name": "stdout",
     "output_type": "stream",
     "text": [
      "_________________________________________________________________\n",
      "Layer (type)                 Output Shape              Param #   \n",
      "=================================================================\n",
      "reshape_1 (Reshape)          (None, 132, 6)            0         \n",
      "_________________________________________________________________\n",
      "conv1d_1 (Conv1D)            (None, 123, 100)          6100      \n",
      "_________________________________________________________________\n",
      "conv1d_2 (Conv1D)            (None, 114, 100)          100100    \n",
      "_________________________________________________________________\n",
      "max_pooling1d_1 (MaxPooling1 (None, 38, 100)           0         \n",
      "_________________________________________________________________\n",
      "conv1d_3 (Conv1D)            (None, 29, 160)           160160    \n",
      "_________________________________________________________________\n",
      "conv1d_4 (Conv1D)            (None, 20, 160)           256160    \n",
      "_________________________________________________________________\n",
      "global_average_pooling1d_1 ( (None, 160)               0         \n",
      "_________________________________________________________________\n",
      "dropout_1 (Dropout)          (None, 160)               0         \n",
      "_________________________________________________________________\n",
      "dense_1 (Dense)              (None, 2)                 322       \n",
      "=================================================================\n",
      "Total params: 522,842\n",
      "Trainable params: 522,842\n",
      "Non-trainable params: 0\n",
      "_________________________________________________________________\n",
      "None\n"
     ]
    }
   ],
   "source": [
    "model_m = Sequential()\n",
    "model_m.add(Reshape((int(processed_data[0].shape[0]/6), 6), input_shape=processed_data[0].shape))\n",
    "model_m.add(Conv1D(100, 10, activation='relu'))\n",
    "model_m.add(Conv1D(100, 10, activation='relu'))\n",
    "model_m.add(MaxPooling1D(3))\n",
    "model_m.add(Conv1D(160, 10, activation='relu'))\n",
    "model_m.add(Conv1D(160, 10, activation='relu'))\n",
    "model_m.add(GlobalAveragePooling1D())\n",
    "model_m.add(Dropout(0.5))\n",
    "model_m.add(Dense(len(letters), activation='softmax'))\n",
    "print(model_m.summary())"
   ]
  },
  {
   "cell_type": "code",
   "execution_count": 15,
   "metadata": {},
   "outputs": [
    {
     "name": "stdout",
     "output_type": "stream",
     "text": [
      "Train on 161 samples, validate on 41 samples\n",
      "Epoch 1/50\n",
      "161/161 [==============================] - 3s 20ms/step - loss: 0.6889 - acc: 0.5839 - val_loss: 0.7681 - val_acc: 0.0000e+00\n",
      "Epoch 2/50\n",
      "161/161 [==============================] - 0s 753us/step - loss: 0.6641 - acc: 0.6335 - val_loss: 1.0238 - val_acc: 0.0000e+00\n",
      "Epoch 3/50\n",
      "161/161 [==============================] - 0s 803us/step - loss: 0.6684 - acc: 0.6273 - val_loss: 0.8940 - val_acc: 0.0000e+00\n",
      "Epoch 4/50\n",
      "161/161 [==============================] - 0s 794us/step - loss: 0.6545 - acc: 0.6273 - val_loss: 0.9602 - val_acc: 0.0000e+00\n",
      "Epoch 5/50\n",
      "161/161 [==============================] - 0s 832us/step - loss: 0.6728 - acc: 0.6273 - val_loss: 0.8935 - val_acc: 0.0000e+00\n",
      "Epoch 6/50\n",
      "161/161 [==============================] - 0s 869us/step - loss: 0.6466 - acc: 0.6211 - val_loss: 0.9243 - val_acc: 0.0000e+00\n",
      "Epoch 7/50\n",
      "161/161 [==============================] - 0s 779us/step - loss: 0.6192 - acc: 0.6273 - val_loss: 0.9090 - val_acc: 0.0000e+00\n",
      "Epoch 8/50\n",
      "161/161 [==============================] - 0s 895us/step - loss: 0.5930 - acc: 0.6273 - val_loss: 0.7479 - val_acc: 0.0000e+00\n",
      "Epoch 9/50\n",
      "161/161 [==============================] - 0s 838us/step - loss: 0.5855 - acc: 0.6584 - val_loss: 1.1659 - val_acc: 0.0000e+00\n",
      "Epoch 10/50\n",
      "161/161 [==============================] - 0s 840us/step - loss: 0.5260 - acc: 0.7516 - val_loss: 0.8223 - val_acc: 0.4390\n",
      "Epoch 11/50\n",
      "161/161 [==============================] - 0s 776us/step - loss: 0.4949 - acc: 0.7391 - val_loss: 0.3451 - val_acc: 0.9512\n",
      "Epoch 12/50\n",
      "161/161 [==============================] - 0s 766us/step - loss: 0.3581 - acc: 0.8758 - val_loss: 0.6036 - val_acc: 0.7317\n",
      "Epoch 13/50\n",
      "161/161 [==============================] - 0s 804us/step - loss: 0.2449 - acc: 0.8944 - val_loss: 0.6430 - val_acc: 0.7073\n",
      "Epoch 14/50\n",
      "161/161 [==============================] - 0s 807us/step - loss: 0.1420 - acc: 0.9441 - val_loss: 0.3955 - val_acc: 0.8537\n",
      "Epoch 15/50\n",
      "161/161 [==============================] - 0s 852us/step - loss: 0.0741 - acc: 0.9876 - val_loss: 0.2409 - val_acc: 0.9268\n",
      "Epoch 16/50\n",
      "161/161 [==============================] - 0s 875us/step - loss: 0.0653 - acc: 0.9876 - val_loss: 0.3083 - val_acc: 0.8537\n",
      "Epoch 17/50\n",
      "161/161 [==============================] - 0s 842us/step - loss: 0.0555 - acc: 0.9814 - val_loss: 0.0808 - val_acc: 0.9512\n",
      "Epoch 18/50\n",
      "161/161 [==============================] - 0s 677us/step - loss: 0.0318 - acc: 0.9876 - val_loss: 0.0019 - val_acc: 1.0000\n",
      "Epoch 19/50\n",
      "161/161 [==============================] - 0s 699us/step - loss: 0.0158 - acc: 0.9938 - val_loss: 0.0055 - val_acc: 1.0000\n",
      "Epoch 20/50\n",
      "161/161 [==============================] - 0s 758us/step - loss: 0.0059 - acc: 1.0000 - val_loss: 9.1932e-04 - val_acc: 1.0000\n",
      "Epoch 21/50\n",
      "161/161 [==============================] - 0s 700us/step - loss: 0.0020 - acc: 1.0000 - val_loss: 0.0111 - val_acc: 1.0000\n",
      "Epoch 22/50\n",
      "161/161 [==============================] - 0s 739us/step - loss: 0.0018 - acc: 1.0000 - val_loss: 0.0026 - val_acc: 1.0000\n",
      "Epoch 23/50\n",
      "161/161 [==============================] - 0s 719us/step - loss: 4.7784e-04 - acc: 1.0000 - val_loss: 8.1312e-04 - val_acc: 1.0000\n",
      "Epoch 24/50\n",
      "161/161 [==============================] - 0s 685us/step - loss: 4.1038e-04 - acc: 1.0000 - val_loss: 6.0593e-04 - val_acc: 1.0000\n",
      "Epoch 25/50\n",
      "161/161 [==============================] - 0s 720us/step - loss: 4.9263e-04 - acc: 1.0000 - val_loss: 6.3493e-04 - val_acc: 1.0000\n",
      "Epoch 26/50\n",
      "161/161 [==============================] - 0s 765us/step - loss: 4.8735e-04 - acc: 1.0000 - val_loss: 7.9060e-04 - val_acc: 1.0000\n",
      "Epoch 27/50\n",
      "161/161 [==============================] - 0s 838us/step - loss: 1.5216e-04 - acc: 1.0000 - val_loss: 9.3575e-04 - val_acc: 1.0000\n",
      "Epoch 28/50\n",
      "161/161 [==============================] - 0s 724us/step - loss: 3.2070e-04 - acc: 1.0000 - val_loss: 7.2236e-04 - val_acc: 1.0000\n"
     ]
    }
   ],
   "source": [
    "callbacks_list = [\n",
    "    keras.callbacks.ModelCheckpoint(\n",
    "        filepath='best_model.{epoch:02d}-{val_loss:.2f}.h5',\n",
    "        monitor='val_loss', save_best_only=True),\n",
    "    keras.callbacks.EarlyStopping(monitor='val_acc', patience=10)\n",
    "]\n",
    "\n",
    "model_m.compile(loss='binary_crossentropy',\n",
    "                optimizer='adam', metrics=['accuracy'])\n",
    "\n",
    "BATCH_SIZE = 20\n",
    "EPOCHS = 50\n",
    "\n",
    "history = model_m.fit(X_train,\n",
    "                      y_train_encoded,\n",
    "                      batch_size=BATCH_SIZE,\n",
    "                      epochs=EPOCHS,\n",
    "                      callbacks=callbacks_list,\n",
    "                      validation_split=0.2,\n",
    "                      verbose=1)"
   ]
  },
  {
   "cell_type": "code",
   "execution_count": 16,
   "metadata": {},
   "outputs": [],
   "source": [
    "predictions = model_m.predict(X_test)"
   ]
  },
  {
   "cell_type": "code",
   "execution_count": 17,
   "metadata": {},
   "outputs": [],
   "source": [
    "predictions_labels = []\n",
    "expected_labels = []\n",
    "for i, prediction in enumerate(predictions):\n",
    "    predictions_labels.append(np.argmax(prediction))\n",
    "    expected_labels.append(np.argmax(y_test_encoded[i]))"
   ]
  },
  {
   "cell_type": "code",
   "execution_count": 18,
   "metadata": {},
   "outputs": [
    {
     "name": "stdout",
     "output_type": "stream",
     "text": [
      "             precision    recall  f1-score   support\n",
      "\n",
      "          A       0.83      0.56      0.67         9\n",
      "          B       0.88      0.97      0.92        31\n",
      "\n",
      "avg / total       0.87      0.88      0.87        40\n",
      "\n"
     ]
    }
   ],
   "source": [
    "print(classification_report(expected_labels, predictions_labels, target_names=letters))"
   ]
  }
 ],
 "metadata": {
  "kernelspec": {
   "display_name": "Python 3",
   "language": "python",
   "name": "python3"
  },
  "language_info": {
   "codemirror_mode": {
    "name": "ipython",
    "version": 3
   },
   "file_extension": ".py",
   "mimetype": "text/x-python",
   "name": "python",
   "nbconvert_exporter": "python",
   "pygments_lexer": "ipython3",
   "version": "3.6.5"
  }
 },
 "nbformat": 4,
 "nbformat_minor": 2
}
